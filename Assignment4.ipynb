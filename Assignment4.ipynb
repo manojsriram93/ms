#!/usr/bin/env python
# coding: utf-8

# In[4]:


##1.1 Write a Python Program(with class concepts) to find the area of the triangle using the below  formula. 
##Function to take the length of the sides of triangle from user should be defined in the parent  class 
##and function to calculate the area should be defined in subclass. 
##area = (s*(s-a)*(s-b)*(s-c)) ** 0.5 
class triagnle:
    def __init__(self,a,b,c):
        self.a=a
        self.b=b
        self.c=c
        
class area(triagnle):
    area = float(0)
    s=float(0)
    def __init__(self,a,b,c):
        super().__init__(a,b,c)
        s=0.5*(a+b+c)
        area = str((s*(s-a)*(s-b)*(s-c)) ** 0.5)
        print("Area is: "+area)

a = float(input("Enter Side 1 of triangle: "))
b = float(input("Enter Side 2 of triangle: "))
c = float(input("Enter Side 3 of triangle: "))
t1=triagnle(a,b,c)
ar = area(a,b,c)


# In[5]:


##1.2 Write a function filter_long_words() that takes a list of words and an integer n and returns
##the list of words that are longer than n. 

filtered_words = []
def filter_long_words(words,num):
    for word in words:
        if(len(word)>num):
            filtered_words.append(word)
    return filtered_words

test = ['This','is','a','test','String','list']
filter_long_words(test,3)


# In[6]:


##2.1 Write a Python program using function concept that maps list of words 
##into a list of integers  representing the lengths of the corresponding words. 

length_of_words = []
def len_word(words):
    for word in words:
        length = len(word)
        length_of_words.append(length)
    return length_of_words

test = ['This','is','a','test','String','list']
len_word(test)


# In[ ]:


##2.2 Write a Python function which takes a character (i.e. a string of length 1) 
##and returns True if  it is a vowel, False otherwise.


# In[7]:


def check_vowel():
    while True:
        try:
            ch = input("Enter String to check: ")
            if len(ch)>1:
                print("Enter String of length 1")
                continue
            print(ch)
            if ch in 'aeiou':
                print("Vowel")
                return True
            else:
                print("Not a Vowel")
                return False
        except Exception as e:
            print(e)


# In[8]:


check_vowel()


# In[9]:


check_vowel()


# In[ ]:




