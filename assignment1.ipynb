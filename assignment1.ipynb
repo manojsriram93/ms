{
 "cells": [
  {
   "cell_type": "code",
   "execution_count": 8,
   "metadata": {},
   "outputs": [
    {
     "name": "stdout",
     "output_type": "stream",
     "text": [
      "[2002, 2009, 2023, 2037, 2051, 2058, 2079, 2086, 2093, 2107, 2114, 2121, 2142, 2149, 2163, 2177, 2191, 2198, 2219, 2226, 2233, 2247, 2254, 2261, 2282, 2289, 2303, 2317, 2331, 2338, 2359, 2366, 2373, 2387, 2394, 2401, 2422, 2429, 2443, 2457, 2471, 2478, 2499, 2506, 2513, 2527, 2534, 2541, 2562, 2569, 2583, 2597, 2611, 2618, 2639, 2646, 2653, 2667, 2674, 2681, 2702, 2709, 2723, 2737, 2751, 2758, 2779, 2786, 2793, 2807, 2814, 2821, 2842, 2849, 2863, 2877, 2891, 2898, 2919, 2926, 2933, 2947, 2954, 2961, 2982, 2989, 3003, 3017, 3031, 3038, 3059, 3066, 3073, 3087, 3094, 3101, 3122, 3129, 3143, 3157, 3171, 3178, 3199]\n"
     ]
    }
   ],
   "source": [
    "##Python Assignment 1\n",
    "##1. Write a program which will find all such numbers which are divisible by 7 but are not a multiple of 5, 4\n",
    "##between 2000 and 3200 (both included). \n",
    "##The numbers obtained should be printed in a comma-separated sequence on a single line.\n",
    "numlist=[]\n",
    "for i in range(2000,3200):\n",
    "    if i%7==0 and i%5 !=0 and i%4 !=0:\n",
    "        numlist.append(i)\n",
    "print(numlist)"
   ]
  },
  {
   "cell_type": "code",
   "execution_count": 10,
   "metadata": {
    "scrolled": true
   },
   "outputs": [
    {
     "name": "stdout",
     "output_type": "stream",
     "text": [
      "Enter First Name: Manoj\n",
      "Enter Last Name: Narasimhan\n",
      "nahmisaraN jonaM\n"
     ]
    }
   ],
   "source": [
    "##2. Write a Python program to accept the user's first and last name\n",
    "##and then getting them printed in the the reverse order with a space between first name and last name. \n",
    "first_name = input(\"Enter First Name: \")\n",
    "last_name = input(\"Enter Last Name: \")\n",
    "rev=last_name[::-1]+\" \"+first_name[::-1]\n",
    "print(rev)"
   ]
  },
  {
   "cell_type": "code",
   "execution_count": 11,
   "metadata": {},
   "outputs": [
    {
     "name": "stdout",
     "output_type": "stream",
     "text": [
      "7241.142857142856\n"
     ]
    }
   ],
   "source": [
    "##3. Write a Python program to find the volume of a sphere with diameter 12 cm. \n",
    "##Formula: V=4/3 * π * r 3 \n",
    "r=12\n",
    "pi=(22/7)\n",
    "vol=(4/3)*pi*r**3\n",
    "print(vol)"
   ]
  },
  {
   "cell_type": "code",
   "execution_count": null,
   "metadata": {},
   "outputs": [],
   "source": []
  }
 ],
 "metadata": {
  "kernelspec": {
   "display_name": "Python 3",
   "language": "python",
   "name": "python3"
  },
  "language_info": {
   "codemirror_mode": {
    "name": "ipython",
    "version": 3
   },
   "file_extension": ".py",
   "mimetype": "text/x-python",
   "name": "python",
   "nbconvert_exporter": "python",
   "pygments_lexer": "ipython3",
   "version": "3.7.6"
  }
 },
 "nbformat": 4,
 "nbformat_minor": 4
}
